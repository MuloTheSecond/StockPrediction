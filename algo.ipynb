{
 "cells": [
  {
   "cell_type": "markdown",
   "metadata": {},
   "source": [
    "Recall (sensitivity) = Ceux qui sont vraiment positifs (TP/Total positif)  -- > Relevant instances  \n",
    "Precision = Nombre de positif trouvé parmis les vrais et faux positifs (TP/TP+FP)"
   ]
  },
  {
   "cell_type": "markdown",
   "metadata": {},
   "source": [
    "**Ticker** represents the stock symbol and has many functions  \n",
    "**History**: Retrieves historical price data for the stock.  \n",
    "**Dividends**: Shows the dividend payouts over time.  \n",
    "**Splits**: Lists stock splits.  \n",
    "**Actions**: Combines dividends and splits.  \n",
    "**Info**: Returns a dictionary with fundamental data like market cap, P/E ratio, etc.  \n",
    "**Financials**: Retrieves the financial statements (income statement, balance sheet).  \n",
    "**Recommendations**: Displays analyst recommendations for the stock.  "
   ]
  },
  {
   "cell_type": "code",
   "execution_count": 1,
   "metadata": {},
   "outputs": [],
   "source": [
    "import pandas as pd"
   ]
  }
 ],
 "metadata": {
  "kernelspec": {
   "display_name": "base",
   "language": "python",
   "name": "python3"
  },
  "language_info": {
   "codemirror_mode": {
    "name": "ipython",
    "version": 3
   },
   "file_extension": ".py",
   "mimetype": "text/x-python",
   "name": "python",
   "nbconvert_exporter": "python",
   "pygments_lexer": "ipython3",
   "version": "3.11.5"
  }
 },
 "nbformat": 4,
 "nbformat_minor": 2
}
